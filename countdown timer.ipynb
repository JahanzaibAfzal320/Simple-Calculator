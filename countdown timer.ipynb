{
  "nbformat": 4,
  "nbformat_minor": 0,
  "metadata": {
    "colab": {
      "provenance": [],
      "authorship_tag": "ABX9TyN7yDQNNKY+kcZ+ukwYcsjD",
      "include_colab_link": true
    },
    "kernelspec": {
      "name": "python3",
      "display_name": "Python 3"
    },
    "language_info": {
      "name": "python"
    }
  },
  "cells": [
    {
      "cell_type": "markdown",
      "metadata": {
        "id": "view-in-github",
        "colab_type": "text"
      },
      "source": [
        "<a href=\"https://colab.research.google.com/github/JahanzaibAfzal320/Simple-Calculator/blob/main/countdown%20timer.ipynb\" target=\"_parent\"><img src=\"https://colab.research.google.com/assets/colab-badge.svg\" alt=\"Open In Colab\"/></a>"
      ]
    },
    {
      "cell_type": "code",
      "execution_count": 4,
      "metadata": {
        "colab": {
          "base_uri": "https://localhost:8080/"
        },
        "id": "7jI3KgrNPM36",
        "outputId": "12a9db9f-6506-4484-fdba-52866b47779d"
      },
      "outputs": [
        {
          "output_type": "stream",
          "name": "stdout",
          "text": [
            "Enter time in seconds: t\n",
            "Please enter a valid number!\n"
          ]
        }
      ],
      "source": [
        "# countdown timer\n",
        "\n",
        "import time  # Time module for handling sleep function\n",
        "\n",
        "def countdown_timer(seconds):  # Function to start countdown timer\n",
        "    while seconds >= 0:  # Loop runs until seconds reach 0\n",
        "        mins, secs = divmod(seconds, 60)  # Convert seconds into minutes and seconds\n",
        "        timer = f'{mins:02d}:{secs:02d}'  # Format time as MM:SS\n",
        "        print(timer, end='\\r')  # Print timer on same line using carriage return\n",
        "        time.sleep(1)  # Pause execution for 1 second\n",
        "        seconds -= 1  # Decrease seconds by 1\n",
        "    print('\\nTime Up!')  # Print message when countdown ends\n",
        "\n",
        "if __name__ == \"__main__\":  # Ensure script runs only when executed directly\n",
        "    try:\n",
        "        total_seconds = int(input('Enter time in seconds: '))  # Get input from user\n",
        "        if total_seconds < 0:  # Check if input is negative\n",
        "            print('Please enter a positive number!')  # Error message for negative input\n",
        "        else:\n",
        "            countdown_timer(total_seconds)  # Start countdown timer with given seconds\n",
        "    except ValueError:  # Handle invalid inputs\n",
        "        print('Please enter a valid number!')  # Error message for non-integer input\n"
      ]
    }
  ]
}